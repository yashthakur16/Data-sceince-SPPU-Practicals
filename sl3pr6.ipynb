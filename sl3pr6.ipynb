{
  "cells": [
    {
      "cell_type": "markdown",
      "metadata": {
        "id": "view-in-github",
        "colab_type": "text"
      },
      "source": [
        "<a href=\"https://colab.research.google.com/github/Tejas9523/DSLAB/blob/main/sl3pr6.ipynb\" target=\"_parent\"><img src=\"https://colab.research.google.com/assets/colab-badge.svg\" alt=\"Open In Colab\"/></a>"
      ]
    },
    {
      "cell_type": "code",
      "execution_count": 1,
      "id": "a48b77a7",
      "metadata": {
        "scrolled": true,
        "id": "a48b77a7"
      },
      "outputs": [],
      "source": [
        "import pandas as pd\n",
        "from sklearn.model_selection import train_test_split\n",
        "from sklearn.preprocessing import LabelEncoder\n",
        "from sklearn.naive_bayes import GaussianNB\n",
        "from sklearn.metrics import confusion_matrix, accuracy_score, precision_score, recall_score, f1_score"
      ]
    },
    {
      "cell_type": "code",
      "execution_count": 2,
      "id": "14e37e96",
      "metadata": {
        "id": "14e37e96"
      },
      "outputs": [],
      "source": [
        "# Load the dataset\n",
        "data = pd.read_csv(\"/content/Iris.csv\")\n",
        "\n",
        "# Encoding the categorical target variable\n",
        "le = LabelEncoder()\n",
        "data['Species'] = le.fit_transform(data['Species'])\n",
        "\n",
        "# Selecting features and target variable\n",
        "X = data.iloc[:, :-1]\n",
        "y = data.iloc[:, -1]\n",
        "\n",
        "# Splitting the dataset into the Training set and Test set\n",
        "X_train, X_test, y_train, y_test = train_test_split(X, y, test_size=0.25, random_state=0)\n"
      ]
    },
    {
      "cell_type": "code",
      "execution_count": 3,
      "id": "fceb2f30",
      "metadata": {
        "id": "fceb2f30"
      },
      "outputs": [],
      "source": [
        "\n",
        "# Naïve Bayes classifier\n",
        "classifier = GaussianNB()\n",
        "classifier.fit(X_train, y_train)\n",
        "\n",
        "# Predicting the Test set results\n",
        "y_pred = classifier.predict(X_test)\n"
      ]
    },
    {
      "cell_type": "code",
      "execution_count": 4,
      "id": "46d48454",
      "metadata": {
        "colab": {
          "base_uri": "https://localhost:8080/"
        },
        "id": "46d48454",
        "outputId": "032ef2d5-3608-43c6-9e7b-f76e149f68a1"
      },
      "outputs": [
        {
          "output_type": "stream",
          "name": "stdout",
          "text": [
            "Confusion Matrix:\n",
            "[[13  0  0]\n",
            " [ 0 16  0]\n",
            " [ 0  0  9]]\n"
          ]
        }
      ],
      "source": [
        "# Confusion Matrix\n",
        "cm = confusion_matrix(y_test, y_pred)\n",
        "print(\"Confusion Matrix:\")\n",
        "print(cm)\n",
        "\n",
        "# Calculating performance metrics\n",
        "TP = cm[1, 1]\n",
        "FP = cm[0, 1]\n",
        "TN = cm[0, 0]\n",
        "FN = cm[1, 0]\n"
      ]
    },
    {
      "cell_type": "code",
      "execution_count": 5,
      "id": "a0748266",
      "metadata": {
        "id": "a0748266"
      },
      "outputs": [],
      "source": [
        "accuracy = accuracy_score(y_test, y_pred)\n",
        "error_rate = 1 - accuracy\n",
        "precision = precision_score(y_test, y_pred, average='weighted')\n",
        "recall = recall_score(y_test, y_pred, average='weighted')\n",
        "f1 = f1_score(y_test, y_pred, average='weighted')"
      ]
    },
    {
      "cell_type": "code",
      "execution_count": 6,
      "id": "9c779ec6",
      "metadata": {
        "colab": {
          "base_uri": "https://localhost:8080/"
        },
        "id": "9c779ec6",
        "outputId": "5ce787e0-1a55-47e8-eef0-e8b7f27ceb1d"
      },
      "outputs": [
        {
          "output_type": "stream",
          "name": "stdout",
          "text": [
            "\n",
            "Performance Metrics:\n",
            "Accuracy: 1.0\n",
            "Error Rate: 0.0\n",
            "Precision: 1.0\n",
            "Recall: 1.0\n",
            "F1 Score: 1.0\n"
          ]
        }
      ],
      "source": [
        "print(\"\\nPerformance Metrics:\")\n",
        "print(f\"Accuracy: {accuracy}\")\n",
        "print(f\"Error Rate: {error_rate}\")\n",
        "print(f\"Precision: {precision}\")\n",
        "print(f\"Recall: {recall}\")\n",
        "print(f\"F1 Score: {f1}\")"
      ]
    }
  ],
  "metadata": {
    "kernelspec": {
      "display_name": "Python 3 (ipykernel)",
      "language": "python",
      "name": "python3"
    },
    "language_info": {
      "codemirror_mode": {
        "name": "ipython",
        "version": 3
      },
      "file_extension": ".py",
      "mimetype": "text/x-python",
      "name": "python",
      "nbconvert_exporter": "python",
      "pygments_lexer": "ipython3",
      "version": "3.10.11"
    },
    "colab": {
      "provenance": [],
      "include_colab_link": true
    }
  },
  "nbformat": 4,
  "nbformat_minor": 5
}