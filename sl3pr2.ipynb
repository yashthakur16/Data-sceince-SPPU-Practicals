{
  "cells": [
    {
      "cell_type": "markdown",
      "metadata": {
        "id": "view-in-github",
        "colab_type": "text"
      },
      "source": [
        "<a href=\"https://colab.research.google.com/github/Tejas9523/DataScienceLab/blob/main/sl3pr2.ipynb\" target=\"_parent\"><img src=\"https://colab.research.google.com/assets/colab-badge.svg\" alt=\"Open In Colab\"/></a>"
      ]
    },
    {
      "cell_type": "code",
      "execution_count": 4,
      "metadata": {
        "id": "B90Bpz4BrfDO",
        "colab": {
          "base_uri": "https://localhost:8080/"
        },
        "outputId": "8cb74cf3-1785-4c20-d953-02853080f445"
      },
      "outputs": [
        {
          "output_type": "stream",
          "name": "stdout",
          "text": [
            "Missing values after handling:\n",
            "Student_ID     0\n",
            "Study_Hours    1\n",
            "Test_Score     0\n",
            "dtype: int64\n",
            "Dataset after handling missing values:\n",
            "   Student_ID  Study_Hours  Test_Score\n",
            "0           1          4.0          85\n",
            "1           2          5.0          88\n",
            "2           3          NaN          75\n",
            "3           4          6.0          90\n",
            "4           5          7.0          92\n"
          ]
        }
      ],
      "source": [
        "import pandas as pd\n",
        "import numpy as np\n",
        "# Create a sample dataset\n",
        "data = pd.DataFrame({\n",
        " 'Student_ID': [1, 2, 3, 4, 5],\n",
        " 'Study_Hours': [4, 5, 'NA', 6, 7], # Introduce 'NA' as missing value\n",
        " 'Test_Score': [85, 88, 75, 90, 92]\n",
        "})\n",
        "import numpy as np\n",
        "# Step 1: Handle missing values\n",
        "# Replace 'NA' with NaN\n",
        "data.replace('NA', np.nan, inplace=True)\n",
        "# Show missing values after handling\n",
        "missing_values_after = data.isnull().sum()\n",
        "print(\"Missing values after handling:\")\n",
        "print(missing_values_after)\n",
        "# Show dataset after handling missing values\n",
        "print(\"Dataset after handling missing values:\")\n",
        "print(data)"
      ]
    },
    {
      "cell_type": "code",
      "source": [
        "# Step 2: Convert 'Study_Hours' to numeric\n",
        "# Convert to float type to handle NaN values\n",
        "data['Study_Hours'] = pd.to_numeric(data['Study_Hours'],\n",
        "errors='coerce')\n",
        "# Fill missing values with median\n",
        "data['Study_Hours'].fillna(data['Study_Hours'].median(), inplace=True)\n",
        "data['Study_Hours'] = data['Study_Hours'].astype(int) # Convert back to integer\n",
        "# Step 3: Detect outliers\n",
        "# For simplicity, let's use z-score method to detect outliers in\n",
        "'Test_Score'\n",
        "from scipy.stats import zscore\n",
        "data['Test_Score_Zscore'] = zscore(data['Test_Score'])\n",
        "# Step 4: Handle outliers\n",
        "# We'll consider z-score > 3 as outliers and replace them with the median\n",
        "data.loc[data['Test_Score_Zscore'].abs() > 3, 'Test_Score'] = data['Test_Score'].median()\n",
        "# Step 5: Data Transformation\n",
        "# Apply square root transformation to 'Test_Score' to reduce skewness\n",
        "data['Transformed_Test_Score'] = np.sqrt(data['Test_Score'])\n",
        "# Display the modified dataset\n",
        "print(data)\n"
      ],
      "metadata": {
        "colab": {
          "base_uri": "https://localhost:8080/"
        },
        "id": "UiMEN_MdPoFB",
        "outputId": "1744faef-7db0-44d4-8530-2ae29665fe2a"
      },
      "execution_count": 7,
      "outputs": [
        {
          "output_type": "stream",
          "name": "stdout",
          "text": [
            "   Student_ID  Study_Hours  Test_Score  Test_Score_Zscore  \\\n",
            "0           1            4          85          -0.167600   \n",
            "1           2            5          88           0.335201   \n",
            "2           3            5          75          -1.843604   \n",
            "3           4            6          90           0.670402   \n",
            "4           5            7          92           1.005602   \n",
            "\n",
            "   Transformed_Test_Score  \n",
            "0                9.219544  \n",
            "1                9.380832  \n",
            "2                8.660254  \n",
            "3                9.486833  \n",
            "4                9.591663  \n"
          ]
        }
      ]
    },
    {
      "cell_type": "code",
      "source": [
        "from scipy.stats import skew\n",
        "# Calculate skewness before transformation\n",
        "skew_before = skew(data['Test_Score'])\n",
        "# Calculate skewness after transformation\n",
        "skew_after = skew(data['Transformed_Test_Score'])\n",
        "print(f\"Skewness before transformation: {skew_before}\")\n",
        "print(f\"Skewness after transformation: {skew_after}\")"
      ],
      "metadata": {
        "colab": {
          "base_uri": "https://localhost:8080/"
        },
        "id": "cfUL7XVwTn1q",
        "outputId": "e04b48a0-db54-474b-e028-a4fd3141aa65"
      },
      "execution_count": 8,
      "outputs": [
        {
          "output_type": "stream",
          "name": "stdout",
          "text": [
            "Skewness before transformation: -0.9830044805797282\n",
            "Skewness after transformation: -1.0139737095417931\n"
          ]
        }
      ]
    }
  ],
  "metadata": {
    "kernelspec": {
      "display_name": "Python 3",
      "language": "python",
      "name": "python3"
    },
    "language_info": {
      "codemirror_mode": {
        "name": "ipython",
        "version": 3
      },
      "file_extension": ".py",
      "mimetype": "text/x-python",
      "name": "python",
      "nbconvert_exporter": "python",
      "pygments_lexer": "ipython3",
      "version": "3.8.10"
    },
    "colab": {
      "provenance": [],
      "include_colab_link": true
    }
  },
  "nbformat": 4,
  "nbformat_minor": 0
}